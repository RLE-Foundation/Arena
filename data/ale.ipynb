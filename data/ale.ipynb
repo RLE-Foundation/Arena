{
 "cells": [
  {
   "cell_type": "code",
   "execution_count": 1,
   "metadata": {},
   "outputs": [
    {
     "name": "stdout",
     "output_type": "stream",
     "text": [
      "(10, 26)\n"
     ]
    }
   ],
   "source": [
    "import pandas as pd\n",
    "import numpy as np\n",
    "import os\n",
    "import json\n",
    "import os.path as osp\n",
    "\n",
    "ATARI_100K_GAMES = [\n",
    "    'Alien', 'Amidar', 'Assault', 'Asterix', 'BankHeist', 'BattleZone',\n",
    "    'Boxing', 'Breakout', 'ChopperCommand', 'CrazyClimber', 'DemonAttack',\n",
    "    'Freeway', 'Frostbite', 'Gopher', 'Hero', 'Jamesbond', 'Kangaroo',\n",
    "    'Krull', 'KungFuMaster', 'MsPacman', 'Pong', 'PrivateEye', 'Qbert',\n",
    "    'RoadRunner', 'Seaquest', 'UpNDown'\n",
    "]\n",
    "\n",
    "algos = ['CURL', 'DrQ', 'DrQ(ε)', 'DER', 'SimPLe', 'OTR', 'SPR']\n",
    "env_data = np.load('./ale_100K.npz', allow_pickle=True)\n",
    "print(env_data['CURL'].shape)\n",
    "all_data = {\n",
    "    'NoFrameskip-v4': {},\n",
    "}\n",
    "\n",
    "for idx, env_name in enumerate(ATARI_100K_GAMES):\n",
    "    json_data = []\n",
    "    data_piece = {\n",
    "        'Team': 'Google Brain',\n",
    "        'Name': None,\n",
    "        'Version': 'NoFrameskip-v4',\n",
    "        'Training Steps': '100K',\n",
    "        'Parameters': 1000000,\n",
    "        'Score': None,\n",
    "        'Mean': None,\n",
    "        'Code': 'https://github.com/google-research/rliable',\n",
    "        'Date': '2022-01-01'\n",
    "    }\n",
    "\n",
    "    for algo in algos:\n",
    "        # print(algo)\n",
    "        data_piece['Name'] = algo\n",
    "        data_piece['Score'] = env_data[algo].tolist()\n",
    "        data_piece['Mean'] = np.mean(data_piece['Score']).round(3)\n",
    "        json_data.append(data_piece.copy())\n",
    "    \n",
    "    all_data['NoFrameskip-v4'][env_name] = json_data\n",
    "\n",
    "    # save json_data to bigfish.json\n",
    "# with open(f'../docs/datasets/ale.json', 'w') as f:\n",
    "#     json.dump(all_data, f)\n"
   ]
  },
  {
   "cell_type": "code",
   "execution_count": 2,
   "metadata": {},
   "outputs": [
    {
     "name": "stdout",
     "output_type": "stream",
     "text": [
      "dict_keys(['C51', 'DQN (Adam)', 'DQN (Nature)', 'Rainbow', 'IQN', 'REM', 'M-IQN', 'DreamerV2'])\n",
      "dict_keys(['Alien', 'Amidar', 'Assault', 'Asterix', 'Asteroids', 'Atlantis', 'BankHeist', 'BattleZone', 'BeamRider', 'Berzerk', 'Bowling', 'Boxing', 'Breakout', 'Centipede', 'ChopperCommand', 'CrazyClimber', 'DemonAttack', 'DoubleDunk', 'Enduro', 'FishingDerby', 'Freeway', 'Frostbite', 'Gopher', 'Gravitar', 'Hero', 'IceHockey', 'Jamesbond', 'Kangaroo', 'Krull', 'KungFuMaster', 'MontezumaRevenge', 'MsPacman', 'NameThisGame', 'Phoenix', 'Pitfall', 'Pong', 'PrivateEye', 'Qbert', 'Riverraid', 'RoadRunner', 'Robotank', 'Seaquest', 'Skiing', 'Solaris', 'SpaceInvaders', 'StarGunner', 'Tennis', 'TimePilot', 'Tutankham', 'UpNDown', 'Venture', 'VideoPinball', 'WizardOfWor', 'YarsRevenge', 'Zaxxon']) 55\n",
      "60\n",
      "60\n",
      "60\n",
      "60\n",
      "60\n",
      "60\n",
      "55\n",
      "55\n"
     ]
    }
   ],
   "source": [
    "env_data = np.load('atari_200m_scores.npy', allow_pickle=True).item()\n",
    "print(env_data.keys())\n",
    "print(env_data['M-IQN'].keys(), len(env_data['M-IQN'].keys()))\n",
    "\n",
    "for key in env_data.keys():\n",
    "    print(len(env_data[key].keys()))"
   ]
  },
  {
   "cell_type": "code",
   "execution_count": 3,
   "metadata": {},
   "outputs": [
    {
     "name": "stdout",
     "output_type": "stream",
     "text": [
      "AirRaid M-IQN\n",
      "AirRaid DreamerV2\n",
      "Carnival M-IQN\n",
      "Carnival DreamerV2\n",
      "ElevatorAction M-IQN\n",
      "ElevatorAction DreamerV2\n",
      "JourneyEscape M-IQN\n",
      "JourneyEscape DreamerV2\n",
      "Pooyan M-IQN\n",
      "Pooyan DreamerV2\n"
     ]
    }
   ],
   "source": [
    "for idx, env_name in enumerate(env_data['C51'].keys()):\n",
    "    json_data = []\n",
    "    data_piece = {\n",
    "        'Team': 'Google Brain',\n",
    "        'Name': None,\n",
    "        'Version': 'NoFrameskip-v4',\n",
    "        'Training Steps': '200M',\n",
    "        'Parameters': 1000000,\n",
    "        'Score': None,\n",
    "        'Mean': None,\n",
    "        'Code': 'https://github.com/google-research/rliable',\n",
    "        'Date': '2022-01-01'\n",
    "    }\n",
    "\n",
    "    for algo in env_data.keys():\n",
    "        try:\n",
    "        # print(algo)\n",
    "            data_piece['Name'] = algo\n",
    "            data_piece['Score'] = env_data[algo][env_name].tolist()\n",
    "            data_piece['Mean'] = np.mean(data_piece['Score']).round(3)\n",
    "            json_data.append(data_piece.copy())\n",
    "        except:\n",
    "            print(env_name, algo)\n",
    "    \n",
    "    try:\n",
    "        all_data['NoFrameskip-v4'][env_name].extend(json_data)\n",
    "    except:\n",
    "        all_data['NoFrameskip-v4'][env_name] = json_data\n",
    "\n",
    "    # save json_data to bigfish.json\n",
    "with open(f'../docs/datasets/ale.json', 'w') as f:\n",
    "    json.dump(all_data, f)"
   ]
  },
  {
   "cell_type": "code",
   "execution_count": 7,
   "metadata": {},
   "outputs": [
    {
     "name": "stdout",
     "output_type": "stream",
     "text": [
      "0 BattleZone\n",
      "1 DoubleDunk\n",
      "2 NameThisGame\n",
      "3 Phoenix\n",
      "4 Qbert\n",
      "5 Riverraid\n",
      "6 Amidar\n",
      "7 Bowling\n",
      "8 Frostbite\n",
      "9 KungFuMaster\n"
     ]
    }
   ],
   "source": [
    "doc = \"\"\"---\n",
    "hide:\n",
    "  - navigation\n",
    "---\n",
    "\n",
    "\n",
    "# **title_name**\n",
    "## **NoFrameskip-v4**\n",
    "### Leaderboard\n",
    "<div>\n",
    "    <script src=\"https://code.jquery.com/jquery-3.7.0.min.js\"></script>\n",
    "    <table id=\"data-table\" class=\"display\" style=\"width:100%\">\n",
    "        <thead>\n",
    "            <tr>\n",
    "                <th>Team</th>\n",
    "                <th>Name</th>\n",
    "                <th>Version</th>\n",
    "                <th>Training Steps</th>\n",
    "                <th>Params</th>\n",
    "                <th>Score</th>\n",
    "                <th>Code</th>\n",
    "                <th>Date</th>\n",
    "            </tr>\n",
    "        </thead>\n",
    "        <tbody>\n",
    "        </tbody>\n",
    "    </table>\n",
    "\n",
    "    <script>\n",
    "        $(document).ready(function() {\n",
    "            const jsonFilePath = '../../../datasets/ale.json'; // Path to your JSON file\n",
    "            const version = 'NoFrameskip-v4';\n",
    "            const environment = 'title_name';\n",
    "            loadDataTable(jsonFilePath, version, environment, 'data-table'); // Call the function\n",
    "        });\n",
    "    </script>\n",
    "</div>\n",
    "\n",
    "### Environment Setting\n",
    "``` py\n",
    "import gymnasium as gym\n",
    "```\n",
    "\"\"\"\n",
    "title_names = [\n",
    "    'BattleZone',\n",
    "    'DoubleDunk',\n",
    "    'NameThisGame',\n",
    "    'Phoenix',\n",
    "    'Qbert',\n",
    "    'Riverraid',\n",
    "    'Amidar',\n",
    "    'Bowling',\n",
    "    'Frostbite',\n",
    "    'KungFuMaster'\n",
    "]\n",
    "for idx, env_name in enumerate(title_names):\n",
    "    print(idx, env_name)\n",
    "    new_doc = doc.replace('env_name', title_names[idx].lower())\n",
    "    new_doc = new_doc.replace('title_name', title_names[idx])\n",
    "    with open(f'../docs/benchmarks/ale/{env_name}.md', 'w') as f:\n",
    "        f.write(new_doc)"
   ]
  },
  {
   "cell_type": "code",
   "execution_count": null,
   "metadata": {},
   "outputs": [],
   "source": []
  }
 ],
 "metadata": {
  "kernelspec": {
   "display_name": "rllte",
   "language": "python",
   "name": "python3"
  },
  "language_info": {
   "codemirror_mode": {
    "name": "ipython",
    "version": 3
   },
   "file_extension": ".py",
   "mimetype": "text/x-python",
   "name": "python",
   "nbconvert_exporter": "python",
   "pygments_lexer": "ipython3",
   "version": "3.8.18"
  }
 },
 "nbformat": 4,
 "nbformat_minor": 2
}
