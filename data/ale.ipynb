{
 "cells": [
  {
   "cell_type": "code",
   "execution_count": 2,
   "metadata": {},
   "outputs": [],
   "source": [
    "import pandas as pd\n",
    "import numpy as np\n",
    "import os\n",
    "import json\n",
    "import os.path as osp\n",
    "\n",
    "ATARI_100K_GAMES = [\n",
    "    'Alien', 'Amidar', 'Assault', 'Asterix', 'BankHeist', 'BattleZone',\n",
    "    'Boxing', 'Breakout', 'ChopperCommand', 'CrazyClimber', 'DemonAttack',\n",
    "    'Freeway', 'Frostbite', 'Gopher', 'Hero', 'Jamesbond', 'Kangaroo',\n",
    "    'Krull', 'KungFuMaster', 'MsPacman', 'Pong', 'PrivateEye', 'Qbert',\n",
    "    'RoadRunner', 'Seaquest', 'UpNDown'\n",
    "]\n",
    "\n",
    "algos = ['CURL', 'DrQ', 'DrQ(ε)', 'DER', 'SimPLe', 'OTR', 'SPR']\n",
    "RANDOM_SCORES = {\n",
    " 'Alien': 227.8,\n",
    " 'Amidar': 5.8,\n",
    " 'Assault': 222.4,\n",
    " 'Asterix': 210.0,\n",
    " 'BankHeist': 14.2,\n",
    " 'BattleZone': 2360.0,\n",
    " 'Boxing': 0.1,\n",
    " 'Breakout': 1.7,\n",
    " 'ChopperCommand': 811.0,\n",
    " 'CrazyClimber': 10780.5,\n",
    " 'DemonAttack': 152.1,\n",
    " 'Freeway': 0.0,\n",
    " 'Frostbite': 65.2,\n",
    " 'Gopher': 257.6,\n",
    " 'Hero': 1027.0,\n",
    " 'Jamesbond': 29.0,\n",
    " 'Kangaroo': 52.0,\n",
    " 'Krull': 1598.0,\n",
    " 'KungFuMaster': 258.5,\n",
    " 'MsPacman': 307.3,\n",
    " 'Pong': -20.7,\n",
    " 'PrivateEye': 24.9,\n",
    " 'Qbert': 163.9,\n",
    " 'RoadRunner': 11.5,\n",
    " 'Seaquest': 68.4,\n",
    " 'UpNDown': 533.4\n",
    "}\n",
    "\n",
    "HUMAN_SCORES = {\n",
    " 'Alien': 7127.7,\n",
    " 'Amidar': 1719.5,\n",
    " 'Assault': 742.0,\n",
    " 'Asterix': 8503.3,\n",
    " 'BankHeist': 753.1,\n",
    " 'BattleZone': 37187.5,\n",
    " 'Boxing': 12.1,\n",
    " 'Breakout': 30.5,\n",
    " 'ChopperCommand': 7387.8,\n",
    " 'CrazyClimber': 35829.4,\n",
    " 'DemonAttack': 1971.0,\n",
    " 'Freeway': 29.6,\n",
    " 'Frostbite': 4334.7,\n",
    " 'Gopher': 2412.5,\n",
    " 'Hero': 30826.4,\n",
    " 'Jamesbond': 302.8,\n",
    " 'Kangaroo': 3035.0,\n",
    " 'Krull': 2665.5,\n",
    " 'KungFuMaster': 22736.3,\n",
    " 'MsPacman': 6951.6,\n",
    " 'Pong': 14.6,\n",
    " 'PrivateEye': 69571.3,\n",
    " 'Qbert': 13455.0,\n",
    " 'RoadRunner': 7845.0,\n",
    " 'Seaquest': 42054.7,\n",
    " 'UpNDown': 11693.2\n",
    "}"
   ]
  },
  {
   "cell_type": "code",
   "execution_count": 14,
   "metadata": {},
   "outputs": [
    {
     "data": {
      "text/plain": [
       "(10, 26)"
      ]
     },
     "execution_count": 14,
     "metadata": {},
     "output_type": "execute_result"
    }
   ],
   "source": [
    "data = np.load('./atari_100k/ale.npz', allow_pickle=True)\n",
    "data['CURL'].shape"
   ]
  },
  {
   "cell_type": "code",
   "execution_count": null,
   "metadata": {},
   "outputs": [],
   "source": [
    "all_data = {\n",
    "    'NoFrameSkip-v4': {},\n",
    "}\n",
    "\n",
    "for env_name in data['env'].unique():\n",
    "    env_data = data[data['env'] == env_name]\n",
    "    json_data = []\n",
    "    data_piece = {\n",
    "        'Team': 'Google Brain',\n",
    "        'Name': None,\n",
    "        'Version': 'NoFrameSkip-v4',\n",
    "        'Training Steps': '100K',\n",
    "        'Parameters': 1000000,\n",
    "        'Score': None,\n",
    "        'Mean': None,\n",
    "        'Code': 'https://github.com/google-research/rliable',\n",
    "        'Date': '2022-01-01'\n",
    "    }\n",
    "\n",
    "    for algo in env_data.columns[1:]:\n",
    "        # print(algo)\n",
    "        data_piece['Name'] = algo\n",
    "        data_piece['Score'] = env_data[algo].values[0]\n",
    "        data_piece['Mean'] = np.mean(data_piece['Score']).round(3)\n",
    "        json_data.append(data_piece.copy())\n",
    "    \n",
    "    all_data['Hard'][env_name] = json_data\n",
    "\n",
    "    # save json_data to bigfish.json\n",
    "with open(f'../docs/datasets/ale.json', 'w') as f:\n",
    "    json.dump(all_data, f)\n"
   ]
  }
 ],
 "metadata": {
  "kernelspec": {
   "display_name": "rllte",
   "language": "python",
   "name": "python3"
  },
  "language_info": {
   "codemirror_mode": {
    "name": "ipython",
    "version": 3
   },
   "file_extension": ".py",
   "mimetype": "text/x-python",
   "name": "python",
   "nbconvert_exporter": "python",
   "pygments_lexer": "ipython3",
   "version": "3.9.18"
  }
 },
 "nbformat": 4,
 "nbformat_minor": 2
}
